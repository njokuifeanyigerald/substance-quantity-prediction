{
 "cells": [
  {
   "cell_type": "code",
   "execution_count": 2,
   "id": "512aa882-a56c-4aae-a65e-43604016c91b",
   "metadata": {},
   "outputs": [
    {
     "name": "stdout",
     "output_type": "stream",
     "text": [
      "Training R-squared: 0.08\n",
      "Testing R-squared: 0.05\n"
     ]
    },
    {
     "data": {
      "text/plain": [
       "['model.pkl']"
      ]
     },
     "execution_count": 2,
     "metadata": {},
     "output_type": "execute_result"
    }
   ],
   "source": [
    "import pandas as pd\n",
    "from sklearn.model_selection import train_test_split\n",
    "from sklearn.linear_model import LinearRegression\n",
    "import joblib\n",
    "import numpy as np\n",
    "# Train and Save the Model\n",
    "\n",
    "# Generate synthetic data with 'hole_length', 'diameter', 'washout_factor'\n",
    "np.random.seed(42)\n",
    "data = {\n",
    "    'hole_length': np.random.uniform(10, 100, 100),\n",
    "    'diameter': np.random.uniform(10, 50, 100),\n",
    "    'washout_factor': np.random.uniform(0.5, 2.0, 100),\n",
    "    'quantity': np.random.uniform(50, 200, 100)\n",
    "}\n",
    "\n",
    "df = pd.DataFrame(data)\n",
    "\n",
    "# Split the data into features (X) and target variable (y)\n",
    "X = df[['hole_length', 'diameter', 'washout_factor']]\n",
    "y = df['quantity']\n",
    "\n",
    "# Split the data into training and testing sets\n",
    "X_train, X_test, y_train, y_test = train_test_split(X, y, test_size=0.2, random_state=42)\n",
    "\n",
    "# Train a linear regression model\n",
    "model = LinearRegression()\n",
    "model.fit(X_train, y_train)\n",
    "\n",
    "# Evaluate the model\n",
    "train_score = model.score(X_train, y_train)\n",
    "test_score = model.score(X_test, y_test)\n",
    "\n",
    "print(f'Training R-squared: {train_score:.2f}')\n",
    "print(f'Testing R-squared: {test_score:.2f}')\n",
    "\n",
    "# Save the trained model\n",
    "joblib.dump(model, 'model.pkl')\n"
   ]
  },
  {
   "cell_type": "code",
   "execution_count": null,
   "id": "bc066eb2-b131-489f-99b1-6c522126615b",
   "metadata": {},
   "outputs": [],
   "source": []
  }
 ],
 "metadata": {
  "kernelspec": {
   "display_name": "Python 3 (ipykernel)",
   "language": "python",
   "name": "python3"
  },
  "language_info": {
   "codemirror_mode": {
    "name": "ipython",
    "version": 3
   },
   "file_extension": ".py",
   "mimetype": "text/x-python",
   "name": "python",
   "nbconvert_exporter": "python",
   "pygments_lexer": "ipython3",
   "version": "3.9.7"
  }
 },
 "nbformat": 4,
 "nbformat_minor": 5
}
